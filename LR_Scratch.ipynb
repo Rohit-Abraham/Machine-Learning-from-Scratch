{
  "nbformat": 4,
  "nbformat_minor": 0,
  "metadata": {
    "colab": {
      "name": "LR_Scratch.ipynb",
      "provenance": [],
      "collapsed_sections": []
    },
    "kernelspec": {
      "name": "python3",
      "display_name": "Python 3"
    }
  },
  "cells": [
    {
      "cell_type": "markdown",
      "metadata": {
        "id": "Osf_ZiqSuZkQ",
        "colab_type": "text"
      },
      "source": [
        "# **Linear Regression from Scratch**\n",
        "\n",
        "Linear regression is a linear model, e.g. a model that assumes a linear relationship between the input variables (x) and the single output variable (y). More specifically, that y can be calculated from a linear combination of the input variables (x).\n",
        "\n",
        "## Model Representation\n",
        "\n",
        "The representation is a linear equation that combines a specific set of input values (x) the solution to which is the predicted output for that set of input values (y). As such, both the input values (x) and the output value are numeric.\n",
        "\n",
        "The linear equation assigns one scale factor to each input value or column, called a coefficient and represented by the capital Greek letter Beta. One additional coefficient is also added, giving the line an additional degree of freedom (e.g. moving up and down on a two-dimensional plot) and is often called the intercept or the bias coefficient.\n",
        "\n",
        "![alt text](https://cdn-images-1.medium.com/max/1436/1*_TqRJ9SmwFzRigJhMiN2uw.png)\n",
        "\n",
        "In higher dimensions when we have more than one input (x), the line is called a plane or a hyper-plane\n",
        "\n"
      ]
    },
    {
      "cell_type": "markdown",
      "metadata": {
        "id": "X7sR3An5BciM",
        "colab_type": "text"
      },
      "source": [
        "## Cost function\n",
        "\n",
        "The loss is the error in our predicted value of m and c. Our goal is to minimize this error to obtain the most accurate value of m and c (b used in mathematical representation).\n",
        "We will use the Mean Squared Error function to calculate the loss.\n",
        "\n",
        "![alt text](https://miro.medium.com/max/800/1*3cpC7oHy4IbH3o3Jc-ygVw.jpeg)"
      ]
    },
    {
      "cell_type": "code",
      "metadata": {
        "id": "AuRf1FKILfaF",
        "colab_type": "code",
        "colab": {}
      },
      "source": [
        "# Cost function\n",
        "\n",
        "def cost_function(m, b, x, y):\n",
        "  totalError = 0\n",
        "  for i in range(0 , len(x)):\n",
        "    totalError += (y[i] - (m * x[i] + b))**2\n",
        "  return totalError/float(len(x))"
      ],
      "execution_count": 0,
      "outputs": []
    },
    {
      "cell_type": "markdown",
      "metadata": {
        "id": "a1_Iszya6apl",
        "colab_type": "text"
      },
      "source": [
        "## Impementing gradient descent\n",
        "\n",
        "Gradient descent is the process of minimizing a function by following the gradient of the cost function.\n",
        "\n",
        "**m** is considered the current position and the **gradient values**(D) is equivalent to the steepness of the slope and **learning rate**(L) is the speed with which movement is. Now the new value of **m** calculated will be the new postion and L*D will be the size of the steps, when the slope is steep, D is more and we need longer steps to be taken. Finally, we reach to the bottom which corresponds to loss = 0."
      ]
    },
    {
      "cell_type": "code",
      "metadata": {
        "id": "kCcKuydf-4Lk",
        "colab_type": "code",
        "colab": {}
      },
      "source": [
        "# Implementing the gradient descent algorithm\n",
        "\n",
        "def gradient_descent(b, m, x, y, learning_rate, num_iterations):\n",
        "  N = float(len(x))\n",
        "  for j in range(num_iterations):\n",
        "    b_gradient = 0\n",
        "    m_gradient = 0\n",
        "    for i in range(0, len(x)):\n",
        "      b_gradient += -(2/N) * (y[i] - ((m * x[i]) + b))\n",
        "      m_gradient += -(2/N) * x[i] * (y[i] - ((m * x[i]) + b))\n",
        "    b -= (learning_rate * b_gradient)\n",
        "    m -= (learning_rate * m_gradient)\n",
        "    # In every 100 iteration, print the error\n",
        "    if j % 100 == 0:\n",
        "        print('MSE after ' + str(j) + ' iterations: ' + str(cost_function(m, b, x, y)))\n",
        "  return [b, m]"
      ],
      "execution_count": 0,
      "outputs": []
    },
    {
      "cell_type": "markdown",
      "metadata": {
        "id": "OtqUnoxhCvAT",
        "colab_type": "text"
      },
      "source": [
        "## Testing our GD algorithm "
      ]
    },
    {
      "cell_type": "code",
      "metadata": {
        "id": "tUYp52qjBwv8",
        "colab_type": "code",
        "colab": {
          "base_uri": "https://localhost:8080/",
          "height": 282
        },
        "outputId": "c3399933-b8df-4583-9f54-99b79bb6917b"
      },
      "source": [
        "import numpy as np\n",
        "import matplotlib.pyplot as plt\n",
        "\n",
        "# Let's create a random dataset\n",
        "x = np.linspace(0, 100, 50)\n",
        "delta = np.random.uniform(-10, 10, x.size)\n",
        "y = 0.5*x + 3 + delta\n",
        "\n",
        "plt.scatter(x, y)"
      ],
      "execution_count": 3,
      "outputs": [
        {
          "output_type": "execute_result",
          "data": {
            "text/plain": [
              "<matplotlib.collections.PathCollection at 0x7fb7d24f01d0>"
            ]
          },
          "metadata": {
            "tags": []
          },
          "execution_count": 3
        },
        {
          "output_type": "display_data",
          "data": {
            "image/png": "[encoded data removed]",
            "text/plain": [
              "<Figure size 432x288 with 1 Axes>"
            ]
          },
          "metadata": {
            "tags": []
          }
        }
      ]
    },
    {
      "cell_type": "code",
      "metadata": {
        "id": "GYqjfrU4C4OH",
        "colab_type": "code",
        "colab": {
          "base_uri": "https://localhost:8080/",
          "height": 259
        },
        "outputId": "b1ff0482-cfa0-4dc7-d8e9-dda651fcc778"
      },
      "source": [
        "# Initializing the learning rate\n",
        "learning_rate = 0.0001\n",
        "\n",
        "# Initializing values of b and m\n",
        "initial_b = 0\n",
        "initial_m = 0\n",
        "\n",
        "# Setting the number of iterations\n",
        "num_iterations = 1000\n",
        "\n",
        "print('Initial MSE: ', cost_function(initial_m, initial_b, x, y))\n",
        "[b, m] = gradient_descent(initial_b, initial_m, x, y, learning_rate,\n",
        "                          num_iterations)\n",
        "print('b: ', b)\n",
        "print('m: ', m)\n",
        "print('MSE: ', cost_function(m, b, x, y))"
      ],
      "execution_count": 8,
      "outputs": [
        {
          "output_type": "stream",
          "text": [
            "Initial MSE:  1027.4587854229746\n",
            "MSE after 0 iterations: 139.67934773115542\n",
            "MSE after 100 iterations: 33.8330858948829\n",
            "MSE after 200 iterations: 33.83308551316883\n",
            "MSE after 300 iterations: 33.833085135366616\n",
            "MSE after 400 iterations: 33.83308476143619\n",
            "MSE after 500 iterations: 33.83308439133784\n",
            "MSE after 600 iterations: 33.83308402503234\n",
            "MSE after 700 iterations: 33.833083662480774\n",
            "MSE after 800 iterations: 33.83308330364469\n",
            "MSE after 900 iterations: 33.83308294848602\n",
            "b:  0.007457848521302401\n",
            "m:  0.5430989073662759\n",
            "MSE:  33.83308260046436\n"
          ],
          "name": "stdout"
        }
      ]
    },
    {
      "cell_type": "code",
      "metadata": {
        "id": "H6kjzfyQEtaf",
        "colab_type": "code",
        "colab": {
          "base_uri": "https://localhost:8080/",
          "height": 282
        },
        "outputId": "efe991fa-436f-426d-e54f-8715b14097bb"
      },
      "source": [
        "# Plotting the regression line\n",
        "\n",
        "predictions = [(m * x[i]) + b for i in range(len(x))]\n",
        "plt.scatter(x, y)\n",
        "plt.plot(x, predictions, color = 'red')"
      ],
      "execution_count": 9,
      "outputs": [
        {
          "output_type": "execute_result",
          "data": {
            "text/plain": [
              "[<matplotlib.lines.Line2D at 0x7fb7cf692a90>]"
            ]
          },
          "metadata": {
            "tags": []
          },
          "execution_count": 9
        },
        {
          "output_type": "display_data",
          "data": {
            "image/png": "[encoded data removed]",
            "text/plain": [
              "<Figure size 432x288 with 1 Axes>"
            ]
          },
          "metadata": {
            "tags": []
          }
        }
      ]
    },
    {
      "cell_type": "markdown",
      "metadata": {
        "id": "puBYslOcFywL",
        "colab_type": "text"
      },
      "source": [
        "## Now using in-built function(sklearn)"
      ]
    },
    {
      "cell_type": "code",
      "metadata": {
        "id": "_G2gVIBcGAXB",
        "colab_type": "code",
        "colab": {
          "base_uri": "https://localhost:8080/",
          "height": 51
        },
        "outputId": "73310167-ecb1-4fb3-e4c8-0f3ce1adf138"
      },
      "source": [
        "from sklearn.linear_model import  LinearRegression\n",
        "\n",
        "print(x.shape)\n",
        "x = x.reshape(-1, 1)\n",
        "print(x.shape)"
      ],
      "execution_count": 10,
      "outputs": [
        {
          "output_type": "stream",
          "text": [
            "(50,)\n",
            "(50, 1)\n"
          ],
          "name": "stdout"
        }
      ]
    },
    {
      "cell_type": "code",
      "metadata": {
        "id": "EvWgqpfiGWal",
        "colab_type": "code",
        "colab": {
          "base_uri": "https://localhost:8080/",
          "height": 34
        },
        "outputId": "421a8242-efc0-461a-ecfd-a849fa58207b"
      },
      "source": [
        "# Creating the model\n",
        "model = LinearRegression()\n",
        "\n",
        "# Fitting the model to our input data x and y\n",
        "model.fit(x, y)"
      ],
      "execution_count": 11,
      "outputs": [
        {
          "output_type": "execute_result",
          "data": {
            "text/plain": [
              "LinearRegression(copy_X=True, fit_intercept=True, n_jobs=None, normalize=False)"
            ]
          },
          "metadata": {
            "tags": []
          },
          "execution_count": 11
        }
      ]
    },
    {
      "cell_type": "code",
      "metadata": {
        "id": "zHQm_wdkGj7Q",
        "colab_type": "code",
        "colab": {
          "base_uri": "https://localhost:8080/",
          "height": 51
        },
        "outputId": "755c47d1-7a7c-42da-db2f-a99c14dd7a75"
      },
      "source": [
        "print('Y intercept: ', model.intercept_) #b\n",
        "print('Gradient: ', model.coef_) #m"
      ],
      "execution_count": 12,
      "outputs": [
        {
          "output_type": "stream",
          "text": [
            "Y intercept:  -0.004023282135523942\n",
            "Gradient:  [0.5432694]\n"
          ],
          "name": "stdout"
        }
      ]
    },
    {
      "cell_type": "code",
      "metadata": {
        "id": "yr4DZXOqG1Ii",
        "colab_type": "code",
        "colab": {}
      },
      "source": [
        "# Storing all predictions in y_pred\n",
        "y_pred = model.predict(x)"
      ],
      "execution_count": 0,
      "outputs": []
    },
    {
      "cell_type": "code",
      "metadata": {
        "id": "f6gAPfCrG84c",
        "colab_type": "code",
        "colab": {
          "base_uri": "https://localhost:8080/",
          "height": 282
        },
        "outputId": "8335a3d6-ec29-4c60-f465-40eda80a4550"
      },
      "source": [
        "plt.scatter(x, y)\n",
        "plt.plot(x, y_pred, color = 'red')"
      ],
      "execution_count": 15,
      "outputs": [
        {
          "output_type": "execute_result",
          "data": {
            "text/plain": [
              "[<matplotlib.lines.Line2D at 0x7fb7c2ebcb00>]"
            ]
          },
          "metadata": {
            "tags": []
          },
          "execution_count": 15
        },
        {
          "output_type": "display_data",
          "data": {
            "image/png": "[encoded data removed]",
            "text/plain": [
              "<Figure size 432x288 with 1 Axes>"
            ]
          },
          "metadata": {
            "tags": []
          }
        }
      ]
    },
    {
      "cell_type": "code",
      "metadata": {
        "id": "HtiKYdoFHLR5",
        "colab_type": "code",
        "colab": {
          "base_uri": "https://localhost:8080/",
          "height": 34
        },
        "outputId": "bee50899-b9f0-44de-ce80-65680fccf14c"
      },
      "source": [
        "# Determining the MSE\n",
        "from sklearn.metrics import  mean_squared_error\n",
        "\n",
        "print('Mean squared error: %.2f' % mean_squared_error(y, y_pred))"
      ],
      "execution_count": 16,
      "outputs": [
        {
          "output_type": "stream",
          "text": [
            "Mean squared error: 33.83\n"
          ],
          "name": "stdout"
        }
      ]
    },
    {
      "cell_type": "markdown",
      "metadata": {
        "id": "Fjmu6Z6eHwc6",
        "colab_type": "text"
      },
      "source": [
        "# Linear Regression a Single variable"
      ]
    },
    {
      "cell_type": "code",
      "metadata": {
        "id": "a18ZGi7CIE1z",
        "colab_type": "code",
        "colab": {
          "base_uri": "https://localhost:8080/",
          "height": 1000
        },
        "outputId": "5ea792d6-6640-4e51-800c-8117d56da269"
      },
      "source": [
        "import pandas as pd\n",
        "import seaborn as sns\n",
        "\n",
        "file_name = \"filename.csv\"\n",
        "df = pd.read_csv(file_name)\n",
        "df.head(40)"
      ],
      "execution_count": 18,
      "outputs": [
        {
          "output_type": "stream",
          "text": [
            "/usr/local/lib/python3.6/dist-packages/statsmodels/tools/_testing.py:19: FutureWarning: pandas.util.testing is deprecated. Use the functions in the public API at pandas.testing instead.\n",
            "  import pandas.util.testing as tm\n"
          ],
          "name": "stderr"
        },
        {
          "output_type": "execute_result",
          "data": {
            "text/html": [
              "<div>\n",
              "<style scoped>\n",
              "    .dataframe tbody tr th:only-of-type {\n",
              "        vertical-align: middle;\n",
              "    }\n",
              "\n",
              "    .dataframe tbody tr th {\n",
              "        vertical-align: top;\n",
              "    }\n",
              "\n",
              "    .dataframe thead th {\n",
              "        text-align: right;\n",
              "    }\n",
              "</style>\n",
              "<table border=\"1\" class=\"dataframe\">\n",
              "  <thead>\n",
              "    <tr style=\"text-align: right;\">\n",
              "      <th></th>\n",
              "      <th>year</th>\n",
              "      <th>time</th>\n",
              "    </tr>\n",
              "  </thead>\n",
              "  <tbody>\n",
              "    <tr>\n",
              "      <th>0</th>\n",
              "      <td>1896</td>\n",
              "      <td>12.00</td>\n",
              "    </tr>\n",
              "    <tr>\n",
              "      <th>1</th>\n",
              "      <td>1900</td>\n",
              "      <td>11.00</td>\n",
              "    </tr>\n",
              "    <tr>\n",
              "      <th>2</th>\n",
              "      <td>1904</td>\n",
              "      <td>11.00</td>\n",
              "    </tr>\n",
              "    <tr>\n",
              "      <th>3</th>\n",
              "      <td>1906</td>\n",
              "      <td>11.20</td>\n",
              "    </tr>\n",
              "    <tr>\n",
              "      <th>4</th>\n",
              "      <td>1908</td>\n",
              "      <td>10.80</td>\n",
              "    </tr>\n",
              "    <tr>\n",
              "      <th>5</th>\n",
              "      <td>1912</td>\n",
              "      <td>10.80</td>\n",
              "    </tr>\n",
              "    <tr>\n",
              "      <th>6</th>\n",
              "      <td>1920</td>\n",
              "      <td>10.80</td>\n",
              "    </tr>\n",
              "    <tr>\n",
              "      <th>7</th>\n",
              "      <td>1924</td>\n",
              "      <td>10.60</td>\n",
              "    </tr>\n",
              "    <tr>\n",
              "      <th>8</th>\n",
              "      <td>1928</td>\n",
              "      <td>10.80</td>\n",
              "    </tr>\n",
              "    <tr>\n",
              "      <th>9</th>\n",
              "      <td>1932</td>\n",
              "      <td>10.30</td>\n",
              "    </tr>\n",
              "    <tr>\n",
              "      <th>10</th>\n",
              "      <td>1936</td>\n",
              "      <td>10.30</td>\n",
              "    </tr>\n",
              "    <tr>\n",
              "      <th>11</th>\n",
              "      <td>1948</td>\n",
              "      <td>10.30</td>\n",
              "    </tr>\n",
              "    <tr>\n",
              "      <th>12</th>\n",
              "      <td>1952</td>\n",
              "      <td>10.40</td>\n",
              "    </tr>\n",
              "    <tr>\n",
              "      <th>13</th>\n",
              "      <td>1956</td>\n",
              "      <td>10.50</td>\n",
              "    </tr>\n",
              "    <tr>\n",
              "      <th>14</th>\n",
              "      <td>1960</td>\n",
              "      <td>10.20</td>\n",
              "    </tr>\n",
              "    <tr>\n",
              "      <th>15</th>\n",
              "      <td>1964</td>\n",
              "      <td>10.00</td>\n",
              "    </tr>\n",
              "    <tr>\n",
              "      <th>16</th>\n",
              "      <td>1968</td>\n",
              "      <td>9.95</td>\n",
              "    </tr>\n",
              "    <tr>\n",
              "      <th>17</th>\n",
              "      <td>1972</td>\n",
              "      <td>10.14</td>\n",
              "    </tr>\n",
              "    <tr>\n",
              "      <th>18</th>\n",
              "      <td>1976</td>\n",
              "      <td>10.06</td>\n",
              "    </tr>\n",
              "    <tr>\n",
              "      <th>19</th>\n",
              "      <td>1980</td>\n",
              "      <td>10.25</td>\n",
              "    </tr>\n",
              "    <tr>\n",
              "      <th>20</th>\n",
              "      <td>1984</td>\n",
              "      <td>9.99</td>\n",
              "    </tr>\n",
              "    <tr>\n",
              "      <th>21</th>\n",
              "      <td>1988</td>\n",
              "      <td>9.92</td>\n",
              "    </tr>\n",
              "    <tr>\n",
              "      <th>22</th>\n",
              "      <td>1992</td>\n",
              "      <td>9.96</td>\n",
              "    </tr>\n",
              "    <tr>\n",
              "      <th>23</th>\n",
              "      <td>1996</td>\n",
              "      <td>9.84</td>\n",
              "    </tr>\n",
              "    <tr>\n",
              "      <th>24</th>\n",
              "      <td>2000</td>\n",
              "      <td>9.87</td>\n",
              "    </tr>\n",
              "    <tr>\n",
              "      <th>25</th>\n",
              "      <td>2004</td>\n",
              "      <td>9.85</td>\n",
              "    </tr>\n",
              "    <tr>\n",
              "      <th>26</th>\n",
              "      <td>2008</td>\n",
              "      <td>9.69</td>\n",
              "    </tr>\n",
              "    <tr>\n",
              "      <th>27</th>\n",
              "      <td>2012</td>\n",
              "      <td>9.63</td>\n",
              "    </tr>\n",
              "    <tr>\n",
              "      <th>28</th>\n",
              "      <td>2016</td>\n",
              "      <td>9.81</td>\n",
              "    </tr>\n",
              "  </tbody>\n",
              "</table>\n",
              "</div>"
            ],
            "text/plain": [
              "    year   time\n",
              "0   1896  12.00\n",
              "1   1900  11.00\n",
              "2   1904  11.00\n",
              "3   1906  11.20\n",
              "4   1908  10.80\n",
              "5   1912  10.80\n",
              "6   1920  10.80\n",
              "7   1924  10.60\n",
              "8   1928  10.80\n",
              "9   1932  10.30\n",
              "10  1936  10.30\n",
              "11  1948  10.30\n",
              "12  1952  10.40\n",
              "13  1956  10.50\n",
              "14  1960  10.20\n",
              "15  1964  10.00\n",
              "16  1968   9.95\n",
              "17  1972  10.14\n",
              "18  1976  10.06\n",
              "19  1980  10.25\n",
              "20  1984   9.99\n",
              "21  1988   9.92\n",
              "22  1992   9.96\n",
              "23  1996   9.84\n",
              "24  2000   9.87\n",
              "25  2004   9.85\n",
              "26  2008   9.69\n",
              "27  2012   9.63\n",
              "28  2016   9.81"
            ]
          },
          "metadata": {
            "tags": []
          },
          "execution_count": 18
        }
      ]
    },
    {
      "cell_type": "code",
      "metadata": {
        "id": "dBGzWckFIHpn",
        "colab_type": "code",
        "colab": {
          "base_uri": "https://localhost:8080/",
          "height": 51
        },
        "outputId": "e3df9165-dac4-4a2a-8d61-118bda449a8c"
      },
      "source": [
        "# Format the data into correct format\n",
        "\n",
        "x = df['year']\n",
        "x_train = np.array(x).reshape(-1, 1)\n",
        "print(x.shape)\n",
        "print(x_train.shape)"
      ],
      "execution_count": 22,
      "outputs": [
        {
          "output_type": "stream",
          "text": [
            "(29,)\n",
            "(29, 1)\n"
          ],
          "name": "stdout"
        }
      ]
    },
    {
      "cell_type": "code",
      "metadata": {
        "id": "GqrhkAoGIrDi",
        "colab_type": "code",
        "colab": {
          "base_uri": "https://localhost:8080/",
          "height": 34
        },
        "outputId": "5a628007-ae6b-4079-9e67-e9a868e4b70d"
      },
      "source": [
        "y_train = np.array(df['time'])\n",
        "y_train.shape"
      ],
      "execution_count": 23,
      "outputs": [
        {
          "output_type": "execute_result",
          "data": {
            "text/plain": [
              "(29,)"
            ]
          },
          "metadata": {
            "tags": []
          },
          "execution_count": 23
        }
      ]
    },
    {
      "cell_type": "code",
      "metadata": {
        "id": "WQflsQyHIzKW",
        "colab_type": "code",
        "colab": {
          "base_uri": "https://localhost:8080/",
          "height": 295
        },
        "outputId": "5dea2a74-4120-4dd3-ea9e-ad04eaf0bcb3"
      },
      "source": [
        "# Training the model\n",
        "from sklearn.linear_model import LinearRegression\n",
        "\n",
        "model = LinearRegression()\n",
        "\n",
        "model.fit(x_train, y_train)\n",
        "\n",
        "#Prediction\n",
        "y_pred = model.predict(x_train)\n",
        "plt.scatter(x_train, y_train)\n",
        "plt.plot(x_train, y_pred, color = 'red')\n",
        "plt.title('Linear Regression')\n",
        "plt.xlabel('Year')\n",
        "plt.ylabel('Time')\n",
        "plt.show()"
      ],
      "execution_count": 39,
      "outputs": [
        {
          "output_type": "display_data",
          "data": {
            "image/png": "[encoded data removed]",
            "text/plain": [
              "<Figure size 432x288 with 1 Axes>"
            ]
          },
          "metadata": {
            "tags": []
          }
        }
      ]
    },
    {
      "cell_type": "code",
      "metadata": {
        "id": "L14ZQu8PJXmG",
        "colab_type": "code",
        "colab": {
          "base_uri": "https://localhost:8080/",
          "height": 34
        },
        "outputId": "32e1d9b0-ffcc-4774-d15d-77fa16f4f9b6"
      },
      "source": [
        "# Predict for 2020 olympics\n",
        "\n",
        "x_2020 = np.array([2020]).reshape(-1, 1)\n",
        "pred_2020 = model.predict(x_2020)[0]\n",
        "print('Time at 2020: ', pred_2020)"
      ],
      "execution_count": 52,
      "outputs": [
        {
          "output_type": "stream",
          "text": [
            "Time at 2020:  9.526795250391455\n"
          ],
          "name": "stdout"
        }
      ]
    },
    {
      "cell_type": "markdown",
      "metadata": {
        "id": "f7Iygq4DKHXS",
        "colab_type": "text"
      },
      "source": [
        "## Polynomial Regression"
      ]
    },
    {
      "cell_type": "code",
      "metadata": {
        "id": "qcKqh7aYKKMh",
        "colab_type": "code",
        "colab": {
          "base_uri": "https://localhost:8080/",
          "height": 237
        },
        "outputId": "676f2522-adc3-4efe-de83-12438d8a1aab"
      },
      "source": [
        "file_name = \"filename.csv\"\n",
        "df = pd.read_csv(file_name)\n",
        "df.head(7)"
      ],
      "execution_count": 31,
      "outputs": [
        {
          "output_type": "execute_result",
          "data": {
            "text/html": [
              "<div>\n",
              "<style scoped>\n",
              "    .dataframe tbody tr th:only-of-type {\n",
              "        vertical-align: middle;\n",
              "    }\n",
              "\n",
              "    .dataframe tbody tr th {\n",
              "        vertical-align: top;\n",
              "    }\n",
              "\n",
              "    .dataframe thead th {\n",
              "        text-align: right;\n",
              "    }\n",
              "</style>\n",
              "<table border=\"1\" class=\"dataframe\">\n",
              "  <thead>\n",
              "    <tr style=\"text-align: right;\">\n",
              "      <th></th>\n",
              "      <th>sno</th>\n",
              "      <th>Temperature</th>\n",
              "      <th>Pressure</th>\n",
              "    </tr>\n",
              "  </thead>\n",
              "  <tbody>\n",
              "    <tr>\n",
              "      <th>0</th>\n",
              "      <td>1</td>\n",
              "      <td>0</td>\n",
              "      <td>0.0002</td>\n",
              "    </tr>\n",
              "    <tr>\n",
              "      <th>1</th>\n",
              "      <td>2</td>\n",
              "      <td>20</td>\n",
              "      <td>0.0012</td>\n",
              "    </tr>\n",
              "    <tr>\n",
              "      <th>2</th>\n",
              "      <td>3</td>\n",
              "      <td>40</td>\n",
              "      <td>0.0060</td>\n",
              "    </tr>\n",
              "    <tr>\n",
              "      <th>3</th>\n",
              "      <td>4</td>\n",
              "      <td>60</td>\n",
              "      <td>0.0300</td>\n",
              "    </tr>\n",
              "    <tr>\n",
              "      <th>4</th>\n",
              "      <td>5</td>\n",
              "      <td>80</td>\n",
              "      <td>0.0900</td>\n",
              "    </tr>\n",
              "    <tr>\n",
              "      <th>5</th>\n",
              "      <td>6</td>\n",
              "      <td>100</td>\n",
              "      <td>0.2700</td>\n",
              "    </tr>\n",
              "  </tbody>\n",
              "</table>\n",
              "</div>"
            ],
            "text/plain": [
              "   sno  Temperature  Pressure\n",
              "0    1            0    0.0002\n",
              "1    2           20    0.0012\n",
              "2    3           40    0.0060\n",
              "3    4           60    0.0300\n",
              "4    5           80    0.0900\n",
              "5    6          100    0.2700"
            ]
          },
          "metadata": {
            "tags": []
          },
          "execution_count": 31
        }
      ]
    },
    {
      "cell_type": "code",
      "metadata": {
        "id": "9VQPXnSHKMe1",
        "colab_type": "code",
        "colab": {}
      },
      "source": [
        "# Extract x(Temprature) and y(Pressure) values\n",
        "x = df.iloc[:, 1:2].values\n",
        "y = df.iloc[:, 2].values"
      ],
      "execution_count": 0,
      "outputs": []
    },
    {
      "cell_type": "code",
      "metadata": {
        "id": "u3Orx80dKyNy",
        "colab_type": "code",
        "colab": {
          "base_uri": "https://localhost:8080/",
          "height": 34
        },
        "outputId": "bbd730fa-1b0f-4240-cbb3-98dcf67890a5"
      },
      "source": [
        "# Fitting Polynomial Regression to the dataset \n",
        "# Fitting the Polynomial Regression model on two components X and y.\n",
        "from sklearn.preprocessing import PolynomialFeatures\n",
        "\n",
        "poly = PolynomialFeatures(degree = 9)\n",
        "model_Poly = poly.fit_transform(x)\n",
        "\n",
        "lin_poly = LinearRegression()\n",
        "lin_poly.fit(model_Poly, y)"
      ],
      "execution_count": 37,
      "outputs": [
        {
          "output_type": "execute_result",
          "data": {
            "text/plain": [
              "LinearRegression(copy_X=True, fit_intercept=True, n_jobs=None, normalize=False)"
            ]
          },
          "metadata": {
            "tags": []
          },
          "execution_count": 37
        }
      ]
    },
    {
      "cell_type": "code",
      "metadata": {
        "id": "H-noyYQVLOO5",
        "colab_type": "code",
        "colab": {
          "base_uri": "https://localhost:8080/",
          "height": 295
        },
        "outputId": "2f7db5ae-c2eb-4faa-cd0a-16a32b3a9022"
      },
      "source": [
        "# Visualizing the polynomial regression results\n",
        "\n",
        "plt.scatter(x, y, color = 'blue')\n",
        "plt.plot(x, lin_poly.predict(model_Poly), color = 'red')\n",
        "plt.title('Polynomial Regression')\n",
        "plt.xlabel('Temprature')\n",
        "plt.ylabel('Pressure')\n",
        "plt.show()"
      ],
      "execution_count": 38,
      "outputs": [
        {
          "output_type": "display_data",
          "data": {
            "image/png": "[encoded data removed]",
            "text/plain": [
              "<Figure size 432x288 with 1 Axes>"
            ]
          },
          "metadata": {
            "tags": []
          }
        }
      ]
    },
    {
      "cell_type": "markdown",
      "metadata": {
        "id": "Q36jXymJL-tZ",
        "colab_type": "text"
      },
      "source": [
        "## Multivariate Linear Regression"
      ]
    },
    {
      "cell_type": "code",
      "metadata": {
        "id": "0hTYUyWmMDJY",
        "colab_type": "code",
        "colab": {
          "base_uri": "https://localhost:8080/",
          "height": 364
        },
        "outputId": "350cb809-f691-4f19-8f91-389ee696b9ff"
      },
      "source": [
        "file_name = \"filename.csv\"\n",
        "auto_df = pd.read_csv(file_name)\n",
        "auto_df.head()"
      ],
      "execution_count": 40,
      "outputs": [
        {
          "output_type": "execute_result",
          "data": {
            "text/html": [
              "<div>\n",
              "<style scoped>\n",
              "    .dataframe tbody tr th:only-of-type {\n",
              "        vertical-align: middle;\n",
              "    }\n",
              "\n",
              "    .dataframe tbody tr th {\n",
              "        vertical-align: top;\n",
              "    }\n",
              "\n",
              "    .dataframe thead th {\n",
              "        text-align: right;\n",
              "    }\n",
              "</style>\n",
              "<table border=\"1\" class=\"dataframe\">\n",
              "  <thead>\n",
              "    <tr style=\"text-align: right;\">\n",
              "      <th></th>\n",
              "      <th>mpg</th>\n",
              "      <th>cylinders</th>\n",
              "      <th>displacement</th>\n",
              "      <th>horsepower</th>\n",
              "      <th>weight</th>\n",
              "      <th>acceleration</th>\n",
              "      <th>model year</th>\n",
              "      <th>origin</th>\n",
              "      <th>car name</th>\n",
              "    </tr>\n",
              "  </thead>\n",
              "  <tbody>\n",
              "    <tr>\n",
              "      <th>0</th>\n",
              "      <td>18.0</td>\n",
              "      <td>8</td>\n",
              "      <td>307.0</td>\n",
              "      <td>130</td>\n",
              "      <td>3504</td>\n",
              "      <td>12.0</td>\n",
              "      <td>70</td>\n",
              "      <td>1</td>\n",
              "      <td>chevrolet chevelle malibu</td>\n",
              "    </tr>\n",
              "    <tr>\n",
              "      <th>1</th>\n",
              "      <td>15.0</td>\n",
              "      <td>8</td>\n",
              "      <td>350.0</td>\n",
              "      <td>165</td>\n",
              "      <td>3693</td>\n",
              "      <td>11.5</td>\n",
              "      <td>70</td>\n",
              "      <td>1</td>\n",
              "      <td>buick skylark 320</td>\n",
              "    </tr>\n",
              "    <tr>\n",
              "      <th>2</th>\n",
              "      <td>18.0</td>\n",
              "      <td>8</td>\n",
              "      <td>318.0</td>\n",
              "      <td>150</td>\n",
              "      <td>3436</td>\n",
              "      <td>11.0</td>\n",
              "      <td>70</td>\n",
              "      <td>1</td>\n",
              "      <td>plymouth satellite</td>\n",
              "    </tr>\n",
              "    <tr>\n",
              "      <th>3</th>\n",
              "      <td>16.0</td>\n",
              "      <td>8</td>\n",
              "      <td>304.0</td>\n",
              "      <td>150</td>\n",
              "      <td>3433</td>\n",
              "      <td>12.0</td>\n",
              "      <td>70</td>\n",
              "      <td>1</td>\n",
              "      <td>amc rebel sst</td>\n",
              "    </tr>\n",
              "    <tr>\n",
              "      <th>4</th>\n",
              "      <td>17.0</td>\n",
              "      <td>8</td>\n",
              "      <td>302.0</td>\n",
              "      <td>140</td>\n",
              "      <td>3449</td>\n",
              "      <td>10.5</td>\n",
              "      <td>70</td>\n",
              "      <td>1</td>\n",
              "      <td>ford torino</td>\n",
              "    </tr>\n",
              "  </tbody>\n",
              "</table>\n",
              "</div>"
            ],
            "text/plain": [
              "    mpg  cylinders  displacement  ... model year  origin                   car name\n",
              "0  18.0          8         307.0  ...         70       1  chevrolet chevelle malibu\n",
              "1  15.0          8         350.0  ...         70       1          buick skylark 320\n",
              "2  18.0          8         318.0  ...         70       1         plymouth satellite\n",
              "3  16.0          8         304.0  ...         70       1              amc rebel sst\n",
              "4  17.0          8         302.0  ...         70       1                ford torino\n",
              "\n",
              "[5 rows x 9 columns]"
            ]
          },
          "metadata": {
            "tags": []
          },
          "execution_count": 40
        }
      ]
    },
    {
      "cell_type": "code",
      "metadata": {
        "id": "oZbWh3wVMFTc",
        "colab_type": "code",
        "colab": {
          "base_uri": "https://localhost:8080/",
          "height": 430
        },
        "outputId": "49e1295f-8659-43ea-ac23-3e8ec31421b3"
      },
      "source": [
        "# Check for the rows that contain '?'\n",
        "auto_df[auto_df['horsepower'] == '?']"
      ],
      "execution_count": 41,
      "outputs": [
        {
          "output_type": "execute_result",
          "data": {
            "text/html": [
              "<div>\n",
              "<style scoped>\n",
              "    .dataframe tbody tr th:only-of-type {\n",
              "        vertical-align: middle;\n",
              "    }\n",
              "\n",
              "    .dataframe tbody tr th {\n",
              "        vertical-align: top;\n",
              "    }\n",
              "\n",
              "    .dataframe thead th {\n",
              "        text-align: right;\n",
              "    }\n",
              "</style>\n",
              "<table border=\"1\" class=\"dataframe\">\n",
              "  <thead>\n",
              "    <tr style=\"text-align: right;\">\n",
              "      <th></th>\n",
              "      <th>mpg</th>\n",
              "      <th>cylinders</th>\n",
              "      <th>displacement</th>\n",
              "      <th>horsepower</th>\n",
              "      <th>weight</th>\n",
              "      <th>acceleration</th>\n",
              "      <th>model year</th>\n",
              "      <th>origin</th>\n",
              "      <th>car name</th>\n",
              "    </tr>\n",
              "  </thead>\n",
              "  <tbody>\n",
              "    <tr>\n",
              "      <th>32</th>\n",
              "      <td>25.0</td>\n",
              "      <td>4</td>\n",
              "      <td>98.0</td>\n",
              "      <td>?</td>\n",
              "      <td>2046</td>\n",
              "      <td>19.0</td>\n",
              "      <td>71</td>\n",
              "      <td>1</td>\n",
              "      <td>ford pinto</td>\n",
              "    </tr>\n",
              "    <tr>\n",
              "      <th>126</th>\n",
              "      <td>21.0</td>\n",
              "      <td>6</td>\n",
              "      <td>200.0</td>\n",
              "      <td>?</td>\n",
              "      <td>2875</td>\n",
              "      <td>17.0</td>\n",
              "      <td>74</td>\n",
              "      <td>1</td>\n",
              "      <td>ford maverick</td>\n",
              "    </tr>\n",
              "    <tr>\n",
              "      <th>330</th>\n",
              "      <td>40.9</td>\n",
              "      <td>4</td>\n",
              "      <td>85.0</td>\n",
              "      <td>?</td>\n",
              "      <td>1835</td>\n",
              "      <td>17.3</td>\n",
              "      <td>80</td>\n",
              "      <td>2</td>\n",
              "      <td>renault lecar deluxe</td>\n",
              "    </tr>\n",
              "    <tr>\n",
              "      <th>336</th>\n",
              "      <td>23.6</td>\n",
              "      <td>4</td>\n",
              "      <td>140.0</td>\n",
              "      <td>?</td>\n",
              "      <td>2905</td>\n",
              "      <td>14.3</td>\n",
              "      <td>80</td>\n",
              "      <td>1</td>\n",
              "      <td>ford mustang cobra</td>\n",
              "    </tr>\n",
              "    <tr>\n",
              "      <th>354</th>\n",
              "      <td>34.5</td>\n",
              "      <td>4</td>\n",
              "      <td>100.0</td>\n",
              "      <td>?</td>\n",
              "      <td>2320</td>\n",
              "      <td>15.8</td>\n",
              "      <td>81</td>\n",
              "      <td>2</td>\n",
              "      <td>renault 18i</td>\n",
              "    </tr>\n",
              "    <tr>\n",
              "      <th>374</th>\n",
              "      <td>23.0</td>\n",
              "      <td>4</td>\n",
              "      <td>151.0</td>\n",
              "      <td>?</td>\n",
              "      <td>3035</td>\n",
              "      <td>20.5</td>\n",
              "      <td>82</td>\n",
              "      <td>1</td>\n",
              "      <td>amc concord dl</td>\n",
              "    </tr>\n",
              "  </tbody>\n",
              "</table>\n",
              "</div>"
            ],
            "text/plain": [
              "      mpg  cylinders  displacement  ... model year  origin              car name\n",
              "32   25.0          4          98.0  ...         71       1            ford pinto\n",
              "126  21.0          6         200.0  ...         74       1         ford maverick\n",
              "330  40.9          4          85.0  ...         80       2  renault lecar deluxe\n",
              "336  23.6          4         140.0  ...         80       1    ford mustang cobra\n",
              "354  34.5          4         100.0  ...         81       2           renault 18i\n",
              "374  23.0          4         151.0  ...         82       1        amc concord dl\n",
              "\n",
              "[6 rows x 9 columns]"
            ]
          },
          "metadata": {
            "tags": []
          },
          "execution_count": 41
        }
      ]
    },
    {
      "cell_type": "code",
      "metadata": {
        "id": "HVDXPOU0MbXI",
        "colab_type": "code",
        "colab": {}
      },
      "source": [
        "# Delete the rows with '?'\n",
        "indexNames = auto_df[auto_df['horsepower'] == '?'].index\n",
        "auto_df.drop(indexNames, inplace = True)"
      ],
      "execution_count": 0,
      "outputs": []
    },
    {
      "cell_type": "code",
      "metadata": {
        "id": "HkZOxKiQMzOy",
        "colab_type": "code",
        "colab": {
          "base_uri": "https://localhost:8080/",
          "height": 294
        },
        "outputId": "def9de8d-b1c9-48e6-dff7-1556bbd669bc"
      },
      "source": [
        "auto_df.horsepower = auto_df.horsepower.astype(float)\n",
        "auto_df.info()"
      ],
      "execution_count": 43,
      "outputs": [
        {
          "output_type": "stream",
          "text": [
            "<class 'pandas.core.frame.DataFrame'>\n",
            "Int64Index: 392 entries, 0 to 397\n",
            "Data columns (total 9 columns):\n",
            " #   Column        Non-Null Count  Dtype  \n",
            "---  ------        --------------  -----  \n",
            " 0   mpg           392 non-null    float64\n",
            " 1   cylinders     392 non-null    int64  \n",
            " 2   displacement  392 non-null    float64\n",
            " 3   horsepower    392 non-null    float64\n",
            " 4   weight        392 non-null    int64  \n",
            " 5   acceleration  392 non-null    float64\n",
            " 6   model year    392 non-null    int64  \n",
            " 7   origin        392 non-null    int64  \n",
            " 8   car name      392 non-null    object \n",
            "dtypes: float64(4), int64(4), object(1)\n",
            "memory usage: 30.6+ KB\n"
          ],
          "name": "stdout"
        }
      ]
    },
    {
      "cell_type": "code",
      "metadata": {
        "id": "Fenze2juNBT1",
        "colab_type": "code",
        "colab": {}
      },
      "source": [
        "# Extracting x and y values\n",
        "x = auto_df.iloc[:, 1:8].values\n",
        "y = auto_df.iloc[:, 0].values"
      ],
      "execution_count": 0,
      "outputs": []
    },
    {
      "cell_type": "code",
      "metadata": {
        "id": "aUGHS8vUNSNb",
        "colab_type": "code",
        "colab": {
          "base_uri": "https://localhost:8080/",
          "height": 34
        },
        "outputId": "6c324181-3e2e-4c18-fbf3-e38d7ddba08d"
      },
      "source": [
        "x.shape"
      ],
      "execution_count": 45,
      "outputs": [
        {
          "output_type": "execute_result",
          "data": {
            "text/plain": [
              "(392, 7)"
            ]
          },
          "metadata": {
            "tags": []
          },
          "execution_count": 45
        }
      ]
    },
    {
      "cell_type": "code",
      "metadata": {
        "id": "4DoKp8diNUpA",
        "colab_type": "code",
        "colab": {
          "base_uri": "https://localhost:8080/",
          "height": 34
        },
        "outputId": "9667537a-153f-4a1c-d1bb-c9d32c636aab"
      },
      "source": [
        "y.shape"
      ],
      "execution_count": 46,
      "outputs": [
        {
          "output_type": "execute_result",
          "data": {
            "text/plain": [
              "(392,)"
            ]
          },
          "metadata": {
            "tags": []
          },
          "execution_count": 46
        }
      ]
    },
    {
      "cell_type": "code",
      "metadata": {
        "id": "dM5ETLxZNhME",
        "colab_type": "code",
        "colab": {
          "base_uri": "https://localhost:8080/",
          "height": 34
        },
        "outputId": "7ff82b24-6219-463b-bf01-1c09985785d6"
      },
      "source": [
        "from sklearn.model_selection import train_test_split\n",
        "from sklearn.linear_model import LinearRegression\n",
        "from sklearn.metrics import mean_squared_error\n",
        "\n",
        "X_train, X_test, y_train, y_test = train_test_split(x, y, test_size = 0.3,\n",
        "                                                    random_state = 0)\n",
        "regressor = LinearRegression()\n",
        "regressor.fit(X_train, y_train)"
      ],
      "execution_count": 48,
      "outputs": [
        {
          "output_type": "execute_result",
          "data": {
            "text/plain": [
              "LinearRegression(copy_X=True, fit_intercept=True, n_jobs=None, normalize=False)"
            ]
          },
          "metadata": {
            "tags": []
          },
          "execution_count": 48
        }
      ]
    },
    {
      "cell_type": "code",
      "metadata": {
        "id": "RKT1hnXROAws",
        "colab_type": "code",
        "colab": {}
      },
      "source": [
        "# Trail data for Honda Prelude: actual mpg is 24\n",
        "Trial_data = np.array([8, 220, 195, 3042, 6.7, 98, 3])\n",
        "Trial_data = Trial_data.reshape(-1, 7)\n",
        "Trial_data = Trial_data.astype(float)"
      ],
      "execution_count": 0,
      "outputs": []
    },
    {
      "cell_type": "code",
      "metadata": {
        "id": "g52iHbKROlvY",
        "colab_type": "code",
        "colab": {
          "base_uri": "https://localhost:8080/",
          "height": 34
        },
        "outputId": "ddece795-9197-4cbb-b88c-c16f50d80e68"
      },
      "source": [
        "regressor.predict(Trial_data)[0]"
      ],
      "execution_count": 50,
      "outputs": [
        {
          "output_type": "execute_result",
          "data": {
            "text/plain": [
              "37.86321409762151"
            ]
          },
          "metadata": {
            "tags": []
          },
          "execution_count": 50
        }
      ]
    }
  ]
}