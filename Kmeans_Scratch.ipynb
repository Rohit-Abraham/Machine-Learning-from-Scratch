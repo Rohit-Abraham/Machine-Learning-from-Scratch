{
  "nbformat": 4,
  "nbformat_minor": 0,
  "metadata": {
    "colab": {
      "name": "Kmeans_Scratch.ipynb",
      "provenance": [],
      "collapsed_sections": []
    },
    "kernelspec": {
      "name": "python3",
      "display_name": "Python 3"
    }
  },
  "cells": [
    {
      "cell_type": "markdown",
      "metadata": {
        "id": "6fhwEEte2Xto",
        "colab_type": "text"
      },
      "source": [
        "# Implementing the K-Means algorithm from Scratch\n",
        "\n",
        "### Steps:\n",
        "**1. Random Initialization:** The best practice for centroid assignment is to randomly initialize it and do multiple iterations till we find the best results. But for this code, I selected the first two datapoints as the centroids.\n",
        "\n",
        "**2. Cluster Assignment:** *(Outer loop)* In this step we will all the datapoints to which centroid is close to, using Euclidean distance. And storing the all the nearest points in a dictionary, where the keys will be the cluster number.\n",
        "\n",
        "**3. Moving the centroids:** *(Inner loop)* In this step we will move the centroid based on the average of all the points associated to individual clusters, and repeating this step until there is no further movement."
      ]
    },
    {
      "cell_type": "code",
      "metadata": {
        "id": "r5OxkMqT70pQ",
        "colab_type": "code",
        "colab": {}
      },
      "source": [
        "#Importing the dependencies\n",
        "import matplotlib.pyplot as plt\n",
        "from matplotlib import style\n",
        "style.use('ggplot')\n",
        "import numpy as np"
      ],
      "execution_count": 0,
      "outputs": []
    },
    {
      "cell_type": "code",
      "metadata": {
        "id": "SlA_V1-LW6Lx",
        "colab_type": "code",
        "outputId": "5283f240-ae95-4601-8a79-ccb915881048",
        "colab": {
          "base_uri": "https://localhost:8080/",
          "height": 282
        }
      },
      "source": [
        "#Training Data\n",
        "X = np.array([[1,2],\n",
        "             [1.5, 1.8],\n",
        "             [5, 8],\n",
        "             [8, 8],\n",
        "             [1, 0.6],\n",
        "             [9, 11]])\n",
        "plt.scatter(X[:, 0], X[:, 1], s = 150, marker='x', linewidth = 5)"
      ],
      "execution_count": 69,
      "outputs": [
        {
          "output_type": "execute_result",
          "data": {
            "text/plain": [
              "<matplotlib.collections.PathCollection at 0x7f050b06ebe0>"
            ]
          },
          "metadata": {
            "tags": []
          },
          "execution_count": 69
        },
        {
          "output_type": "display_data",
          "data": {
            "image/png": "[encoded data removed]",
            "text/plain": [
              "<Figure size 432x288 with 1 Axes>"
            ]
          },
          "metadata": {
            "tags": []
          }
        }
      ]
    },
    {
      "cell_type": "code",
      "metadata": {
        "id": "wYSUmT-rXyo5",
        "colab_type": "code",
        "colab": {}
      },
      "source": [
        "#Color code for clusters\n",
        "colors = ['g', 'r']\n",
        "\n",
        "# Defining K-Means function\n",
        "class K_Means:\n",
        "  def __init__(self, k=2, tol = 0.001, max_iter = 300):  \n",
        "    '''tol(Tolerance): the degree by which the centroid will move that will be\n",
        "       by percent change.\n",
        "       max_iter: No. of times the algorithm runs'''\n",
        "    self.k = k\n",
        "    self.tol = tol\n",
        "    self.max_iter = max_iter\n",
        "\n",
        "  def fit(self, data):\n",
        "\n",
        "    # Storing the final values of centroids, values of the dictionary will be \n",
        "    # coordinates of the centroids\n",
        "    self.centroids = {}\n",
        "\n",
        "    for i in range(self.k):\n",
        "      # The first two centroids will be the first two data points\n",
        "      # (Random Initialization)\n",
        "      self.centroids[i] = data[i]\n",
        "\n",
        "    # Optimization\n",
        "    for i in range(self.max_iter):\n",
        "      # Keys: Centroids(0 or 1) and values: feature sets associated with the cluster\n",
        "      # (Cluster Assignment)\n",
        "      self.classifications = {}\n",
        "\n",
        "      for i in range(self.k):\n",
        "        self.classifications[i] = []\n",
        "\n",
        "      for featureset in data:\n",
        "        # Calculating distances of datapoints from each centroid and storing in a list\n",
        "        distances = [np.linalg.norm(featureset-self.centroids[centroid]) for centroid in self.centroids]\n",
        "        classification = distances.index(min(distances))\n",
        "        self.classifications[classification].append(featureset)\n",
        "\n",
        "      # Storing initial centroids to compute the tolerance\n",
        "      prev_centroids = dict(self.centroids)\n",
        "\n",
        "      for classification in self.classifications:\n",
        "        # Average of all the classifications/features for a given class and\n",
        "        # redefining the new centroid (Moving the centroid)\n",
        "        self.centroids[classification] = np.average(self.classifications[classification], axis = 0)\n",
        "\n",
        "      # Optimization flag\n",
        "      optimized = True\n",
        "\n",
        "      for c in self.centroids:\n",
        "        original_centroid = prev_centroids[c]\n",
        "        current_centroid = self.centroids[c]\n",
        "        # To check the movement of the centroid is within the tolerance\n",
        "        if np.sum((current_centroid - original_centroid)/original_centroid*100.0) > self.tol:\n",
        "          optimized = False\n",
        "\n",
        "      # If it satisfies the above conditions the optimization loop will break\n",
        "      if optimized:\n",
        "        break\n",
        "  \n",
        "  # Defining the predict function\n",
        "  def predict(self, data):\n",
        "    distances = [np.linalg.norm(data - self.centroids[centroid]) for centroid in self.centroids]\n",
        "    classification = distances.index(min(distances))\n",
        "    return classification"
      ],
      "execution_count": 0,
      "outputs": []
    },
    {
      "cell_type": "code",
      "metadata": {
        "id": "mjTsgPvzFJ2T",
        "colab_type": "code",
        "colab": {}
      },
      "source": [
        "# Training the model\n",
        "clf = K_Means()\n",
        "clf.fit(X)"
      ],
      "execution_count": 0,
      "outputs": []
    },
    {
      "cell_type": "code",
      "metadata": {
        "id": "5bFwrahZFOGM",
        "colab_type": "code",
        "colab": {
          "base_uri": "https://localhost:8080/",
          "height": 265
        },
        "outputId": "5a93970a-1673-450b-a070-2d20128e859f"
      },
      "source": [
        "# Visulaizing the results\n",
        "for centroid in clf.centroids:\n",
        "  plt.scatter(clf.centroids[centroid][0], clf.centroids[centroid][1],\n",
        "              marker = 'o', color = 'k', s = 150, linewidth = 5)\n",
        "  \n",
        "for classification in clf.classifications:\n",
        "  color = colors[classification]\n",
        "  for featureset in clf.classifications[classification]:\n",
        "    plt.scatter(featureset[0], featureset[1], marker = 'x', color = color,\n",
        "                s = 150, linewidth = 5)\n",
        "    \n",
        "plt.show()"
      ],
      "execution_count": 80,
      "outputs": [
        {
          "output_type": "display_data",
          "data": {
            "image/png": "[encoded data removed]",
            "text/plain": [
              "<Figure size 432x288 with 1 Axes>"
            ]
          },
          "metadata": {
            "tags": []
          }
        }
      ]
    },
    {
      "cell_type": "code",
      "metadata": {
        "id": "UEWFMzlhIJai",
        "colab_type": "code",
        "colab": {
          "base_uri": "https://localhost:8080/",
          "height": 265
        },
        "outputId": "bb72ea32-0817-40ff-f790-5ee55d3c5d72"
      },
      "source": [
        "# Visualizing the results for unknown datapoints\n",
        "for centroid in clf.centroids:\n",
        "  plt.scatter(clf.centroids[centroid][0], clf.centroids[centroid][1],\n",
        "              marker = 'o', color = 'k', s = 150, linewidth = 5)\n",
        "  \n",
        "for classification in clf.classifications:\n",
        "  color = colors[classification]\n",
        "  for featureset in clf.classifications[classification]:\n",
        "    plt.scatter(featureset[0], featureset[1], marker = 'x', color = color,\n",
        "                s = 150, linewidth = 5)\n",
        "    \n",
        "# Adding the test data for predictions\n",
        "unknowns = np.array([[5, 8],\n",
        "                    [8, 9],\n",
        "                    [1, 4],\n",
        "                    [4, 4],\n",
        "                    [9, 2],])\n",
        "\n",
        "for unknown in unknowns:\n",
        "  classification = clf.predict(unknown)\n",
        "  plt.scatter(unknown[0], unknown[1], marker = '*', color = colors[classification],\n",
        "              s = 150, linewidth = 5)\n",
        "  \n",
        "plt.show()"
      ],
      "execution_count": 84,
      "outputs": [
        {
          "output_type": "display_data",
          "data": {
            "image/png": "[encoded data removed]",
            "text/plain": [
              "<Figure size 432x288 with 1 Axes>"
            ]
          },
          "metadata": {
            "tags": []
          }
        }
      ]
    }
  ]
}