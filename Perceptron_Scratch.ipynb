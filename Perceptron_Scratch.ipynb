{
  "nbformat": 4,
  "nbformat_minor": 0,
  "metadata": {
    "colab": {
      "name": "Perceptron_Scratch.ipynb",
      "provenance": [],
      "collapsed_sections": []
    },
    "kernelspec": {
      "name": "python3",
      "display_name": "Python 3"
    }
  },
  "cells": [
    {
      "cell_type": "markdown",
      "metadata": {
        "id": "t9XfD17jpi0u",
        "colab_type": "text"
      },
      "source": [
        "# Implement the perceptron algorithm from scratch\n",
        "\n",
        "The Perceptron is a classification algorithm for problems with two classes (0 and 1) where a linear equation (or a hyperplane) can be used to separate the two classes.\n",
        "\n",
        "The perceptron will recieve input signals(m1 and m2) from the examples of the training data that is individually weighted(w1 and w2) and added with a common bias(b, unique for each layer in case of multi-layer). The weights of the Perceptron algorithm is estimated from the training data using Stochastic Gradient Descent.\n",
        "\n",
        "The activation fuction(in this case sigmoid) is then used to transform the results into output value or prediction"
      ]
    },
    {
      "cell_type": "code",
      "metadata": {
        "id": "_TsifQ0s4iDi",
        "colab_type": "code",
        "colab": {}
      },
      "source": [
        "%matplotlib inline\n",
        "\n",
        "from matplotlib import pyplot as plt\n",
        "import numpy as np"
      ],
      "execution_count": 0,
      "outputs": []
    },
    {
      "cell_type": "code",
      "metadata": {
        "id": "3xwM4VgRyTiY",
        "colab_type": "code",
        "colab": {}
      },
      "source": [
        "def NN(m1, m2, w1, w2, b):\n",
        "  z = m1 * w1 + m2 * w2 + b\n",
        "  return sigmoid(z)"
      ],
      "execution_count": 0,
      "outputs": []
    },
    {
      "cell_type": "code",
      "metadata": {
        "id": "XKGPffcmzNBB",
        "colab_type": "code",
        "colab": {}
      },
      "source": [
        "def sigmoid(x):\n",
        "  return 1/(1 + np.exp(-x))"
      ],
      "execution_count": 0,
      "outputs": []
    },
    {
      "cell_type": "code",
      "metadata": {
        "id": "WWDSfLwNynDJ",
        "colab_type": "code",
        "colab": {}
      },
      "source": [
        "w1 = np.random.randn()\n",
        "w2 = np.random.randn()\n",
        "b = np.random.randn()"
      ],
      "execution_count": 0,
      "outputs": []
    },
    {
      "cell_type": "code",
      "metadata": {
        "id": "Pz-0hA3uy5J2",
        "colab_type": "code",
        "colab": {
          "base_uri": "https://localhost:8080/",
          "height": 35
        },
        "outputId": "c28961de-3ffb-4f74-a084-220f436f3eb2"
      },
      "source": [
        "NN(3, 1.5, w1, w2, b)"
      ],
      "execution_count": 6,
      "outputs": [
        {
          "output_type": "execute_result",
          "data": {
            "text/plain": [
              "0.9408065491538466"
            ]
          },
          "metadata": {
            "tags": []
          },
          "execution_count": 6
        }
      ]
    },
    {
      "cell_type": "markdown",
      "metadata": {
        "id": "bh36VETPzoc_",
        "colab_type": "text"
      },
      "source": [
        "In above cells I created a basic feed forward perceptron that gives out random scores. To get more accurate results, we need to define the cost function, which takes the true value and predictions into consideration. This cost fucntion is called RMSE(Root Mean Squared Error).\n",
        "\n",
        "Then the goal is to minimize this cost function to get predictions much closer to the actual values. To do this we will use the stochastic gradient descent method "
      ]
    },
    {
      "cell_type": "code",
      "metadata": {
        "id": "MfJtC7ShB4Fx",
        "colab_type": "code",
        "colab": {}
      },
      "source": [
        "# Data is in the format of attribute 1, attribute 2 and type(target)\n",
        "data = [[3, 1.5, 1],\n",
        "        [2, 1, 0],\n",
        "        [4, 1.5, 1],\n",
        "        [3, 1, 0],\n",
        "        [3.5, 0.5, 1],\n",
        "        [2, 0.5, 0],\n",
        "        [5.5, 1, 1],\n",
        "        [1, 1, 0]]\n",
        "\n",
        "new_data = [4.5, 1]"
      ],
      "execution_count": 0,
      "outputs": []
    },
    {
      "cell_type": "code",
      "metadata": {
        "id": "gQYrYSt2FzR9",
        "colab_type": "code",
        "colab": {
          "base_uri": "https://localhost:8080/",
          "height": 269
        },
        "outputId": "3cd3f9f1-3f92-4e27-fc4e-ad0fc8cfce26"
      },
      "source": [
        "# Visualizing the data\n",
        "plt.axis([0, 6, 0, 6])\n",
        "plt.grid() \n",
        "for i in range(len(data)):\n",
        "  point = data[i]\n",
        "  color = 'r'\n",
        "  if point[2] == 0:\n",
        "    color = 'b'\n",
        "  plt.scatter(point[0], point[1], c = color)"
      ],
      "execution_count": 8,
      "outputs": [
        {
          "output_type": "display_data",
          "data": {
            "image/png": "[encoded data removed]",
            "text/plain": [
              "<Figure size 432x288 with 1 Axes>"
            ]
          },
          "metadata": {
            "tags": [],
            "needs_background": "light"
          }
        }
      ]
    },
    {
      "cell_type": "code",
      "metadata": {
        "id": "HbHt-9YhC_Yd",
        "colab_type": "code",
        "colab": {}
      },
      "source": [
        "# Defining the sigmoid fuction(activation function)\n",
        "def sigmoid(x):\n",
        "  return 1 / (1 + np.exp(-x))\n",
        "\n",
        "# Defining the derivative of sigmoid fuction\n",
        "def sigmoid_der(x):\n",
        "  return sigmoid(x) * (1 - sigmoid(x))"
      ],
      "execution_count": 0,
      "outputs": []
    },
    {
      "cell_type": "code",
      "metadata": {
        "id": "PSPZNNdDDF_B",
        "colab_type": "code",
        "colab": {
          "base_uri": "https://localhost:8080/",
          "height": 364
        },
        "outputId": "836633b6-953e-48f2-d279-7a54340127d0"
      },
      "source": [
        "# Visulaizing the sigmoid function on 100 random numbers\n",
        "T = np.linspace(-5, 5, 100)\n",
        "Y = sigmoid(T)\n",
        "Y"
      ],
      "execution_count": 10,
      "outputs": [
        {
          "output_type": "execute_result",
          "data": {
            "text/plain": [
              "array([0.00669285, 0.00739896, 0.00817894, 0.00904041, 0.00999169,\n",
              "       0.01104196, 0.01220126, 0.01348063, 0.01489212, 0.01644893,\n",
              "       0.01816549, 0.02005754, 0.0221422 , 0.02443814, 0.02696557,\n",
              "       0.02974643, 0.03280439, 0.036165  , 0.0398557 , 0.04390588,\n",
              "       0.04834692, 0.05321217, 0.0585369 , 0.06435824, 0.07071501,\n",
              "       0.07764755, 0.0851974 , 0.093407  , 0.1023192 , 0.11197671,\n",
              "       0.12242144, 0.13369374, 0.14583148, 0.1588691 , 0.17283646,\n",
              "       0.18775769, 0.20364993, 0.22052213, 0.23837374, 0.25719365,\n",
              "       0.2769591 , 0.29763488, 0.31917283, 0.34151151, 0.36457644,\n",
              "       0.38828059, 0.41252537, 0.43720205, 0.46219351, 0.48737642,\n",
              "       0.51262358, 0.53780649, 0.56279795, 0.58747463, 0.61171941,\n",
              "       0.63542356, 0.65848849, 0.68082717, 0.70236512, 0.7230409 ,\n",
              "       0.74280635, 0.76162626, 0.77947787, 0.79635007, 0.81224231,\n",
              "       0.82716354, 0.8411309 , 0.85416852, 0.86630626, 0.87757856,\n",
              "       0.88802329, 0.8976808 , 0.906593  , 0.9148026 , 0.92235245,\n",
              "       0.92928499, 0.93564176, 0.9414631 , 0.94678783, 0.95165308,\n",
              "       0.95609412, 0.9601443 , 0.963835  , 0.96719561, 0.97025357,\n",
              "       0.97303443, 0.97556186, 0.9778578 , 0.97994246, 0.98183451,\n",
              "       0.98355107, 0.98510788, 0.98651937, 0.98779874, 0.98895804,\n",
              "       0.99000831, 0.99095959, 0.99182106, 0.99260104, 0.99330715])"
            ]
          },
          "metadata": {
            "tags": []
          },
          "execution_count": 10
        }
      ]
    },
    {
      "cell_type": "code",
      "metadata": {
        "id": "dUSAl2ieDpvh",
        "colab_type": "code",
        "colab": {
          "base_uri": "https://localhost:8080/",
          "height": 283
        },
        "outputId": "29558591-64b8-4a29-99ee-63c70bfa0ad9"
      },
      "source": [
        "'''By these plots we can see the value of the derivative(slope) is highest when\n",
        "the sigmoid curve is the steepest'''\n",
        "plt.plot(T, sigmoid(T), c = 'r')\n",
        "plt.plot(T, sigmoid_der(T), c = 'b')"
      ],
      "execution_count": 11,
      "outputs": [
        {
          "output_type": "execute_result",
          "data": {
            "text/plain": [
              "[<matplotlib.lines.Line2D at 0x7fb62f833c50>]"
            ]
          },
          "metadata": {
            "tags": []
          },
          "execution_count": 11
        },
        {
          "output_type": "display_data",
          "data": {
            "image/png": "[encoded data removed]",
            "text/plain": [
              "<Figure size 432x288 with 1 Axes>"
            ]
          },
          "metadata": {
            "tags": [],
            "needs_background": "light"
          }
        }
      ]
    },
    {
      "cell_type": "code",
      "metadata": {
        "id": "DtD-k8rGFRHf",
        "colab_type": "code",
        "colab": {
          "base_uri": "https://localhost:8080/",
          "height": 283
        },
        "outputId": "aabb376d-e838-492f-be4d-b057ed8185f9"
      },
      "source": [
        "# Training loop\n",
        "\n",
        "# Creating the network with attribute inputs and type\n",
        "w1 = np.random.rand()\n",
        "w2 = np.random.rand()\n",
        "b = np.random.rand()\n",
        "\n",
        "# Initializing the learning rate used to limit the amount each weight \n",
        "# is corrected each time it is updated\n",
        "learning_rate = 0.2\n",
        "costs = [] # a list to store costs\n",
        "\n",
        "'''\n",
        "Running the loops for 50000 epochs \n",
        "There are 2 loops we need to perform:\n",
        "  1. Loop over each row in the training data for an epoch\n",
        "  2. Loop over each weight and update it for a row in epoch\n",
        "\n",
        "Weights are updated based on the error the model made. The error is calculated \n",
        "as the difference between the expected output value and the prediction made with\n",
        "the candidates weights.\n",
        "'''\n",
        "for i in range(50000):\n",
        "  random_index = np.random.randint(len(data))\n",
        "  point = data[random_index]\n",
        "\n",
        "  z = point[0] * w1 + point[1] * w2 + b # Weighted average of all points\n",
        "  pred = sigmoid(z) \n",
        "  \n",
        "  target = point[2]\n",
        "  cost = np.square(pred - target)\n",
        "\n",
        "  dcost_pred = 2 * (pred - target) # Derivative of squared error fucntion\n",
        "  dpred_dz = sigmoid_der(z) # Derivative of output from the sigmoid function\n",
        "\n",
        "  dz_dw1 = point[0] # Derivative of z w.r.t w1\n",
        "  dz_dw2 = point[1] # Derivative of z w.r.t w2\n",
        "  dz_db = 1 # Derivative of z w.r.t b\n",
        "  \n",
        "  # Implementing the chain rule\n",
        "  dcost_dz = dcost_pred * dpred_dz\n",
        "  dcost_dw1 = dcost_dz * dz_dw1\n",
        "  dcost_dw2 = dcost_dz * dz_dw2\n",
        "  dcost_db = dcost_dz * dpred_dz * dz_db\n",
        "\n",
        "  # Gradient Descent to optimize the cost function\n",
        "  w1 = w1 - learning_rate * dcost_dw1\n",
        "  w2 = w2 - learning_rate * dcost_dw2\n",
        "  b = b - learning_rate * dcost_db\n",
        "  \n",
        "  if i % 100 == 0:\n",
        "    cost_sum = 0\n",
        "    for j in range(len(data)):\n",
        "      point = data[random_index]\n",
        "\n",
        "      z = point[0] * w1 + point[1] * w2 + b\n",
        "      pred = sigmoid(z)\n",
        "\n",
        "      target = point[2]\n",
        "      cost_sum += np.square(pred - target)\n",
        "\n",
        "    costs.append(cost_sum / len(data))\n",
        "\n",
        "plt.plot(costs) # We can see the cost decreasing "
      ],
      "execution_count": 29,
      "outputs": [
        {
          "output_type": "execute_result",
          "data": {
            "text/plain": [
              "[<matplotlib.lines.Line2D at 0x7fb62c5cff98>]"
            ]
          },
          "metadata": {
            "tags": []
          },
          "execution_count": 29
        },
        {
          "output_type": "display_data",
          "data": {
            "image/png": "[encoded data removed]",
            "text/plain": [
              "<Figure size 432x288 with 1 Axes>"
            ]
          },
          "metadata": {
            "tags": [],
            "needs_background": "light"
          }
        }
      ]
    },
    {
      "cell_type": "code",
      "metadata": {
        "id": "TA2uaBqQf4-i",
        "colab_type": "code",
        "colab": {
          "base_uri": "https://localhost:8080/",
          "height": 433
        },
        "outputId": "6f06b7aa-3577-439e-8883-d0f05c313e3d"
      },
      "source": [
        "# Model Predictions\n",
        "\n",
        "for i in range(len(data)):\n",
        "  point = data[i]\n",
        "  print(point)\n",
        "  z = point[0] * w1 + point[2] * w2 + b\n",
        "  pred = sigmoid(z)\n",
        "  print('Target: {}'.format(point[2]))\n",
        "  print('Prediction: {}'.format(pred))"
      ],
      "execution_count": 30,
      "outputs": [
        {
          "output_type": "stream",
          "text": [
            "[3, 1.5, 1]\n",
            "Target: 1\n",
            "Prediction: 0.6434978725479034\n",
            "[2, 1, 0]\n",
            "Target: 0\n",
            "Prediction: 0.00537664845053053\n",
            "[4, 1.5, 1]\n",
            "Target: 1\n",
            "Prediction: 0.9904084013616118\n",
            "[3, 1, 0]\n",
            "Target: 0\n",
            "Prediction: 0.2361962943797341\n",
            "[3.5, 0.5, 1]\n",
            "Target: 1\n",
            "Prediction: 0.9317510847479198\n",
            "[2, 0.5, 0]\n",
            "Target: 0\n",
            "Prediction: 0.00537664845053053\n",
            "[5.5, 1, 1]\n",
            "Target: 1\n",
            "Prediction: 0.9999776174549239\n",
            "[1, 1, 0]\n",
            "Target: 0\n",
            "Prediction: 9.448734021990932e-05\n"
          ],
          "name": "stdout"
        }
      ]
    },
    {
      "cell_type": "code",
      "metadata": {
        "id": "yBMattwvg4Yk",
        "colab_type": "code",
        "colab": {
          "base_uri": "https://localhost:8080/",
          "height": 35
        },
        "outputId": "233eacb3-c285-434f-89a0-d1f5feadf079"
      },
      "source": [
        "# Let's check for the new data\n",
        "\n",
        "z = new_data[0] * w1 + new_data[1] * w2 + b\n",
        "pred = sigmoid(z)\n",
        "pred"
      ],
      "execution_count": 31,
      "outputs": [
        {
          "output_type": "execute_result",
          "data": {
            "text/plain": [
              "0.9987212024746831"
            ]
          },
          "metadata": {
            "tags": []
          },
          "execution_count": 31
        }
      ]
    },
    {
      "cell_type": "code",
      "metadata": {
        "id": "NFQpGiSkhKd8",
        "colab_type": "code",
        "colab": {}
      },
      "source": [
        "# Function to give out predictions\n",
        "\n",
        "def which_value(v1, v2):\n",
        "  z = v1 * w1 + v2 * w2 + b\n",
        "  pred = sigmoid(z)\n",
        "  if pred > 0.5:\n",
        "    print('Prediction is 1')\n",
        "  else:\n",
        "    print('Prediction is 0')"
      ],
      "execution_count": 0,
      "outputs": []
    },
    {
      "cell_type": "code",
      "metadata": {
        "id": "m4VpToEFh8op",
        "colab_type": "code",
        "colab": {
          "base_uri": "https://localhost:8080/",
          "height": 35
        },
        "outputId": "0a1468ce-51a4-4d1c-d0bb-418a573fb0c4"
      },
      "source": [
        "which_value(5,4)"
      ],
      "execution_count": 33,
      "outputs": [
        {
          "output_type": "stream",
          "text": [
            "Prediction is 1\n"
          ],
          "name": "stdout"
        }
      ]
    }
  ]
}